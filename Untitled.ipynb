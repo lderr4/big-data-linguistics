{
 "cells": [
  {
   "cell_type": "code",
   "execution_count": 1,
   "id": "0bd59e5b",
   "metadata": {},
   "outputs": [
    {
     "name": "stdout",
     "output_type": "stream",
     "text": [
      "200\n",
      "\n",
      "\t<!DOCTYPE html>\n",
      "\t<html class=\"no-icon-fonts\" lang=\"en\">\n",
      "\t<head>\n",
      "\t\t<meta http-equiv=\"content-type\" content=\"text/html; charset=UTF-8\" />\n",
      "<meta http-equiv=\"x-ua-compatible\" content=\"IE=edge,chrome=1\" />\n",
      "<meta name=\"viewport\" content=\"initial-scale=1.0, maximum-scale=1.0, user-scalable=no\">\n",
      "<meta name=\"referrer\" content=\"origin-when-cross-origin\">\n",
      "<link rel=\"canonical\" href=\"https://www.espn.com/fantasy/\" />\n",
      "<title>Fantasy Games</title>\n",
      "<meta name=\"description\" content=\"Play ESPN fantasy games. C\n"
     ]
    }
   ],
   "source": [
    "import requests\n",
    "\n",
    "headers = {\n",
    "    \"User-Agent\": \"Mozilla/5.0\",  # Important!\n",
    "    \"Accept\": \"application/json\",\n",
    "    \"Connection\": \"keep-alive\"\n",
    "}\n",
    "\n",
    "cookies = {\n",
    "    \"SWID\": \"{B7530A59-3486-4C5B-930A-5934863C5B3F}\", \n",
    "    \"espn_s2\": \"AEAWNEYE0K1TT9xlhb%2FFw0RbufKvSvr1rAI5C3QA3KB%2Fj2nfCWKssDrFLO%2BVaIglRRp%2FEhuXuXQbucjUwW5MjMiwlivglnsqYFI5cJctD6rw3Ld8kz3alGpEmZd4Y7LhW7V9ra7hmFMo6BF%2FBZkVnYZvZO%2BxiA6ZpY8pJZ1L0oNVOIFLPFmr8GNcWawUWTgdOVJ08cK31gNB5OXHZakA0tDF9DGI%2BVDkKVCKgFxKd0Uwjpry8I2xYbxL31vN8otZgQP4311VYmUKEhEzzj7k3Cqh\"\n",
    "}\n",
    "\n",
    "url = \"https://fantasy.espn.com/apis/v3/games/flb/seasons/2020/segments/0/leagues/403\"\n",
    "\n",
    "response = requests.get(url, headers=headers, cookies=cookies)\n",
    "\n",
    "print(response.status_code)\n",
    "print(response.text[:500])  # Preview"
   ]
  },
  {
   "cell_type": "code",
   "execution_count": null,
   "id": "cfac6c87",
   "metadata": {},
   "outputs": [],
   "source": []
  }
 ],
 "metadata": {
  "kernelspec": {
   "display_name": "Python 3 (ipykernel)",
   "language": "python",
   "name": "python3"
  },
  "language_info": {
   "codemirror_mode": {
    "name": "ipython",
    "version": 3
   },
   "file_extension": ".py",
   "mimetype": "text/x-python",
   "name": "python",
   "nbconvert_exporter": "python",
   "pygments_lexer": "ipython3",
   "version": "3.9.13"
  }
 },
 "nbformat": 4,
 "nbformat_minor": 5
}
